{
 "cells": [
  {
   "cell_type": "markdown",
   "metadata": {},
   "source": [
    "# Q1: Hello <name>!"
   ]
  },
  {
   "cell_type": "markdown",
   "metadata": {},
   "source": [
    "Write a customizable version of the classic \"hello world!\" program in hello.py which, instead of saying \"hello world!\", prompts the user for their name and then says hello to them! "
   ]
  },
  {
   "cell_type": "code",
   "execution_count": 2,
   "metadata": {},
   "outputs": [
    {
     "name": "stdout",
     "output_type": "stream",
     "text": [
      "What is your name? Karel\n",
      "Hello Karel!\n"
     ]
    }
   ],
   "source": [
    "\"\"\"\n",
    "Prompts the user for their name and then says hello!\n",
    "\"\"\"\n",
    "\n",
    "def main():\n",
    "    name = input('What is your name? ')\n",
    "    print(f\"Hello {name}!\")\n",
    "\n",
    "if __name__ == '__main__':\n",
    "    main()"
   ]
  },
  {
   "cell_type": "markdown",
   "metadata": {},
   "source": [
    "# Q2: Mad Libs"
   ]
  },
  {
   "cell_type": "markdown",
   "metadata": {},
   "source": [
    "Add one line of code in madlibs.py to complete the story of Karel the Omniscient (and build your understanding of Python)!\n",
    "\n",
    "Mad Libs is a word game where players are prompted for one word at a time, and the words are eventually filled into the blanks of a word template to make an entertaining story! In the starter code we've provided most of a short story, with constants WIZARD, NUMBER_OF, FRUIT, PRICE, and YEARS interspersed throughout! Start by taking a close look at the starter code and running it as is to see how the story goes so far. Notice that if you change the value of, say, the WIZARD constant at the top and rerun the program, it'll change throughout the story!"
   ]
  },
  {
   "cell_type": "code",
   "execution_count": 3,
   "metadata": {},
   "outputs": [
    {
     "name": "stdout",
     "output_type": "stream",
     "text": [
      "There once was a wizard by the name of Karel the Omniscient who loved to eat mangoes.\n",
      "Karel the Omniscient always kept a stash of 6174 mangoes in their mini fridge!\n",
      "Karel the Omniscient realized they couldn't keep all those mangoes to themselves,\n",
      "so they sold them at the market for $2.99 apiece,\n",
      "and with the earnings bought fruit to share with the entire village!\n",
      "Legend says 300 years later, Karel the Omniscient is still eating fruit.\n"
     ]
    }
   ],
   "source": [
    "# Fun fact: 6174 is known as Kaprekar's constant,\n",
    "# and it's a pretty mysterious number :)\n",
    "\n",
    "WIZARD = 'Karel the Omniscient'\n",
    "NUMBER_OF = 6174\n",
    "FRUIT = 'mangoes'\n",
    "PRICE = 2.99\n",
    "YEARS = 300\n",
    "\n",
    "def main():\n",
    "    print(\"There once was a wizard by the name of \" + WIZARD + \" who loved to eat \" + FRUIT + \".\")\n",
    "    print(WIZARD + \" always kept a stash of \" + str(NUMBER_OF) + \" \" + FRUIT + \" in their mini fridge!\")\n",
    "    print(WIZARD + \" realized they couldn't keep all those \" + FRUIT + \" to themselves,\")\n",
    "    print(\"so they sold them at the market for $\" + str(PRICE) + \" apiece,\")\n",
    "    print(\"and with the earnings bought fruit to share with the entire village!\")\n",
    "    print(f\"Legend says {YEARS} years later, {WIZARD} is still eating fruit.\")\n",
    "\n",
    "if __name__ == '__main__':\n",
    "    main()"
   ]
  },
  {
   "cell_type": "markdown",
   "metadata": {},
   "source": [
    "# Q3: Subtract Numbers"
   ]
  },
  {
   "cell_type": "markdown",
   "metadata": {},
   "source": [
    "Write a program in the file subtract_numbers.py that reads two real numbers from the user and prints the first number minus the second number.\n",
    "\n",
    "You can assume the user will always enter valid real numbers as input (negative values are fine). Yes, we know this problem is really similar to a problem we did in class – that’s why this problem is a sandcastle!"
   ]
  },
  {
   "cell_type": "code",
   "execution_count": 4,
   "metadata": {},
   "outputs": [
    {
     "name": "stdout",
     "output_type": "stream",
     "text": [
      "This program subtracts one number from another.\n",
      "Enter first number: 5.5\n",
      "Enter second number: 2\n",
      "The result is 3.5\n"
     ]
    }
   ],
   "source": [
    "\"\"\"\n",
    "Asks the user for two numbers and prints the result\n",
    "of the first number minus the second number.\n",
    "\"\"\"\n",
    "print('This program subtracts one number from another.')\n",
    "def main():\n",
    "    num1 = float(input('Enter first number: '))\n",
    "    num2 = float(input('Enter second number: '))\n",
    "    result = num1 - num2 \n",
    "    print(f\"The result is {result}\")\n",
    "\n",
    "if __name__ == '__main__':\n",
    "    main()"
   ]
  },
  {
   "cell_type": "markdown",
   "metadata": {},
   "source": [
    "# Q4: Random Numbers"
   ]
  },
  {
   "cell_type": "markdown",
   "metadata": {},
   "source": [
    "Write a program in the file random_numbers.py that prints 10 random integers (each random integer should have a value between 0 and 100, inclusive).\n",
    "\n",
    "Your program should use a constant named NUM_RANDOM, which determines the number of random numbers to print (with a value of 10).\n",
    "\n",
    "It should also use constants named MIN_RANDOM and MAX_RANDOM to determine the minimal and maximal values of the random numbers generated (with respective values 0 and 100).\n",
    "\n",
    "To generate random numbers, you should use the function random.randint() from Python’s random library."
   ]
  },
  {
   "cell_type": "code",
   "execution_count": 5,
   "metadata": {},
   "outputs": [
    {
     "name": "stdout",
     "output_type": "stream",
     "text": [
      "67\n",
      "28\n",
      "68\n",
      "14\n",
      "52\n",
      "48\n",
      "20\n",
      "25\n",
      "85\n",
      "78\n"
     ]
    }
   ],
   "source": [
    "\"\"\"\n",
    "Prints out 10 random numbers between 0 and 100.\n",
    "\"\"\"\n",
    "\n",
    "import random\n",
    "\n",
    "MIN_RANDOM = 0\n",
    "MAX_RANDOM = 100\n",
    "NUM_RANDOM = 10\n",
    "def main():\n",
    "    for x in range(NUM_RANDOM):\n",
    "      nums = random.randint(MIN_RANDOM,MAX_RANDOM)\n",
    "      print(nums)\n",
    "\n",
    "if __name__ == '__main__':\n",
    "    main()"
   ]
  },
  {
   "cell_type": "markdown",
   "metadata": {},
   "source": [
    "# Q5: Liftoff!"
   ]
  },
  {
   "cell_type": "markdown",
   "metadata": {},
   "source": [
    "Write a program in the file liftoff.py that prints out the calls for a spaceship that is about to launch. Countdown from 10 to 1 and then output Liftoff!\n",
    "\n",
    "Your program should use a for loop."
   ]
  },
  {
   "cell_type": "code",
   "execution_count": 1,
   "metadata": {},
   "outputs": [
    {
     "name": "stdout",
     "output_type": "stream",
     "text": [
      "10\n",
      "9\n",
      "8\n",
      "7\n",
      "6\n",
      "5\n",
      "4\n",
      "3\n",
      "2\n",
      "1\n",
      "Liftoff!\n"
     ]
    }
   ],
   "source": [
    "def main():\n",
    "    \n",
    "    for x in range(10,0,-1):\n",
    "        print(x)\n",
    "    print('Liftoff!')\n",
    "\n",
    "if __name__ == '__main__':\n",
    "    main()"
   ]
  },
  {
   "cell_type": "markdown",
   "metadata": {},
   "source": [
    "# Q6: Khansole Academy"
   ]
  },
  {
   "cell_type": "markdown",
   "metadata": {},
   "source": [
    "Now that you’ve seen how programming can help us in a number of different areas, it’s time for you to implement Khansole Academy—a program that helps other people learn! In this problem, you’ll write a program in the file khansole_academy.py that randomly generates a simple addition problem for the user, reads in the answer from the user, and then checks to see if they got it right or wrong. Note that “console” is another name for “terminal” :-).\n",
    "\n",
    "More specifically, your program should be able to generate simple addition problems that involve adding two 2-digit integers (i.e., the numbers 10 through 99). The user should be asked for an answer to the generated problem. Your program should determine if the answer was correct or not, and give the user an appropriate message to let them know."
   ]
  },
  {
   "cell_type": "code",
   "execution_count": 2,
   "metadata": {},
   "outputs": [
    {
     "name": "stdout",
     "output_type": "stream",
     "text": [
      "What is 70 + 51?\n",
      "Your answer: 120\n",
      "Incorrect. The expected answer is 121\n"
     ]
    }
   ],
   "source": [
    "import random \n",
    "\n",
    "def main():\n",
    "    num1 = random.randint(10,99)\n",
    "    num2 = random.randint(10,99)\n",
    "    total = num1+num2\n",
    "    print(f\"What is {num1} + {num2}?\")\n",
    "    answer = int(input(\"Your answer: \"))\n",
    "    if answer==total:\n",
    "        print(\"Correct!\")\n",
    "    else:\n",
    "        print(f\"Incorrect. The expected answer is {total}\")\n",
    "\n",
    "    \n",
    "\n",
    "if __name__ == '__main__':\n",
    "    main()"
   ]
  },
  {
   "cell_type": "markdown",
   "metadata": {},
   "source": [
    "# Q7 Khansole Academy, Extension"
   ]
  },
  {
   "cell_type": "markdown",
   "metadata": {},
   "source": [
    "In the previous milestone you wrote code to randomly generate one addition problem at a time and tell the user if they got it right or not. In this milestone, you should randomly generate addition problems until the user has gotten 3 problems correct in a row. (Note: the number of problems the user needs to get correctly in a row to complete the program is just one example of a good place to specify a constant in your program).\n",
    "\n",
    "You should be able to use a lot of your code from the previous milestone to help out here!"
   ]
  },
  {
   "cell_type": "code",
   "execution_count": 5,
   "metadata": {},
   "outputs": [
    {
     "name": "stdout",
     "output_type": "stream",
     "text": [
      "What is 44 + 17?\n",
      "Your answer: 51\n",
      "Incorrect. The expected answer is 61\n",
      "What is 83 + 99?\n",
      "Your answer: 134\n",
      "Incorrect. The expected answer is 182\n",
      "What is 40 + 52?\n",
      "Your answer: 92\n",
      "Correct!\n",
      "What is 37 + 59?\n",
      "Your answer: 96\n",
      "Correct!\n",
      "What is 48 + 28?\n",
      "Your answer: 76\n",
      "Correct!\n",
      "Congratulations! You mastered addition.\n"
     ]
    }
   ],
   "source": [
    "import random\n",
    "CORRECT_THREE = 3\n",
    "\n",
    "def main():\n",
    "    correct = 0\n",
    "    while correct!=CORRECT_THREE:\n",
    "      num1 = random.randint(10,99)\n",
    "      num2 = random.randint(10,99)\n",
    "      total = num1+num2\n",
    "      print(f\"What is {num1} + {num2}?\")\n",
    "      answer = int(input(\"Your answer: \"))\n",
    "      if answer==total:\n",
    "         #Adding up the count of correct \n",
    "         correct+=1\n",
    "         print(\"Correct!\")\n",
    "      else:\n",
    "         correct=0\n",
    "         print(f\"Incorrect. The expected answer is {total}\")\n",
    "    if correct==CORRECT_THREE:\n",
    "        print(\"Congratulations! You mastered addition.\")\n",
    "\n",
    "if __name__ == '__main__':\n",
    "    main()"
   ]
  },
  {
   "cell_type": "markdown",
   "metadata": {},
   "source": [
    "# Q8 : Ancient Game of Nimm"
   ]
  },
  {
   "cell_type": "markdown",
   "metadata": {},
   "source": [
    "Nimm is an ancient game of strategy that is named after the old German word for \"take.\" It is also called Tiouk Tiouk in West Africa and Tsynshidzi in China. Players alternate taking stones until there are zero left.\n",
    "\n",
    "The game of Nimm goes as follows:\n",
    "\n",
    "The game starts with a pile of 20 stones between the players.\n",
    "\n",
    "The two players alternate turns.\n",
    "\n",
    "On a given turn, a player may take either 1 or 2 stone from the center pile.\n",
    "\n",
    "The two players continue until the center pile has run out of stones."
   ]
  },
  {
   "cell_type": "markdown",
   "metadata": {},
   "source": [
    "Milestone 1\n",
    "Start with 20 stones. Repeat the process of removing stones and printing out how many stones are left until there are zero. Don't worry about whose turn it is. Don't worry about making sure only one or two stones are removed. Use the method input(msg) which prints msg and waits for the user to enter an input. Make sure to convert the input into an int."
   ]
  },
  {
   "cell_type": "markdown",
   "metadata": {},
   "source": [
    "Milestone 2\n",
    "Create a variable of type int to keep track of whose turn it is (remember there are two players). Tell the user whose turn it is. Each time someone picks up stones, change the player number."
   ]
  },
  {
   "cell_type": "code",
   "execution_count": 1,
   "metadata": {},
   "outputs": [
    {
     "name": "stdout",
     "output_type": "stream",
     "text": [
      "There are 20 stones left\n",
      "Player 1 would you like to remove 1 or 2 stones? 2\n",
      "\n",
      "There are 18 stones left\n",
      "Player 2 would you like to remove 1 or 2 stones? 1\n",
      "\n",
      "There are 17 stones left\n",
      "Player 1 would you like to remove 1 or 2 stones? 10\n",
      "Please enter 1 or 2: 2\n",
      "\n",
      "There are 15 stones left\n",
      "Player 2 would you like to remove 1 or 2 stones? 1\n",
      "\n",
      "There are 14 stones left\n",
      "Player 1 would you like to remove 1 or 2 stones? 2\n",
      "\n",
      "There are 12 stones left\n",
      "Player 2 would you like to remove 1 or 2 stones? 2\n",
      "\n",
      "There are 10 stones left\n",
      "Player 1 would you like to remove 1 or 2 stones? 2\n",
      "\n",
      "There are 8 stones left\n",
      "Player 2 would you like to remove 1 or 2 stones? 2\n",
      "\n",
      "There are 6 stones left\n",
      "Player 1 would you like to remove 1 or 2 stones? 1\n",
      "\n",
      "There are 5 stones left\n",
      "Player 2 would you like to remove 1 or 2 stones? 1\n",
      "\n",
      "There are 4 stones left\n",
      "Player 1 would you like to remove 1 or 2 stones? 2\n",
      "\n",
      "There are 2 stones left\n",
      "Player 2 would you like to remove 1 or 2 stones? 2\n",
      "\n",
      "Player 1 wins!\n"
     ]
    }
   ],
   "source": [
    "import random\n",
    "STONES = 20\n",
    "\n",
    "def main():\n",
    "    PLAYER_TRACK=1\n",
    "    #assigning STONES to stones cause STONES is a constant and cannot be changed.\n",
    "    stones=STONES\n",
    "    while stones>0:\n",
    "        print(f'There are {stones} stones left')\n",
    "        response = int(input(f'Player {PLAYER_TRACK} would you like to remove 1 or 2 stones? '))\n",
    "        \n",
    "        while response !=1 and response!=2:\n",
    "            response = int(input('Please enter 1 or 2: '))\n",
    "\n",
    "        print('')\n",
    "        #updating the stones value\n",
    "        stones = stones-response\n",
    "\n",
    "        if PLAYER_TRACK==2:\n",
    "            PLAYER_TRACK-=1\n",
    "        else:\n",
    "            PLAYER_TRACK+=1\n",
    "    print(f'Player {PLAYER_TRACK} wins!')\n",
    "        \n",
    "\n",
    "if __name__ == '__main__':\n",
    "    main()"
   ]
  },
  {
   "cell_type": "markdown",
   "metadata": {},
   "source": [
    "# Hailstones"
   ]
  },
  {
   "cell_type": "markdown",
   "metadata": {},
   "source": [
    "A separate (optional) problem you could consider writing is based on a problem in Douglas Hofstadter’s Pulitzer-prize-winning book Gödel, Escher, Bach. That book contains many interesting mathematical puzzles, many of which can be expressed in the form of computer programs. In Chapter XII, Hofstadter mentions a wonderful problem that is well within the scope of what you know. The problem can be expressed as follows:\n",
    "- Pick some positive integer and call it n.\n",
    "- If n is even, divide it by two.\n",
    "- If n is odd, multiply it by three and add one.\n",
    "- Continue this process until n is equal to one."
   ]
  },
  {
   "cell_type": "code",
   "execution_count": 2,
   "metadata": {},
   "outputs": [
    {
     "name": "stdout",
     "output_type": "stream",
     "text": [
      "Enter a number: 17\n",
      "17 is odd, so I make 3n + 1: 52\n",
      "52 is even, so I take half: 26\n",
      "26 is even, so I take half: 13\n",
      "13 is odd, so I make 3n + 1: 40\n",
      "40 is even, so I take half: 20\n",
      "20 is even, so I take half: 10\n",
      "10 is even, so I take half: 5\n",
      "5 is odd, so I make 3n + 1: 16\n",
      "16 is even, so I take half: 8\n",
      "8 is even, so I take half: 4\n",
      "4 is even, so I take half: 2\n",
      "2 is even, so I take half: 1\n",
      "The process took 12 steps to reach 1\n"
     ]
    }
   ],
   "source": [
    "import random \n",
    "\n",
    "def main():\n",
    "    counter=0\n",
    "    num = int(input('Enter a number: '))\n",
    "    \n",
    "    while num!=1:\n",
    "        counter+=1\n",
    "        #If num is even, divide it by two.\n",
    "        if num%2==0:\n",
    "            num1 = num/2\n",
    "            print(str(int(num)) + \" is even, so I take half: \" + str(int(num1)))\n",
    "            num = num1\n",
    "        #If num is odd, multiply it by three and add one.\n",
    "        elif num % 2 == 1:\n",
    "             num1 = num*3 + 1\n",
    "             print(str(int(num))+\" is odd, so I make 3n + 1: \"+str(int(num1)))\n",
    "             num = num1\n",
    "             #Continue this process until num is equal to one.\n",
    "    print(f\"The process took {counter} steps to reach 1\")\n",
    "\n",
    "if __name__ == \"__main__\":\n",
    "    main()"
   ]
  },
  {
   "cell_type": "code",
   "execution_count": null,
   "metadata": {},
   "outputs": [],
   "source": []
  }
 ],
 "metadata": {
  "kernelspec": {
   "display_name": "Python 3",
   "language": "python",
   "name": "python3"
  },
  "language_info": {
   "codemirror_mode": {
    "name": "ipython",
    "version": 3
   },
   "file_extension": ".py",
   "mimetype": "text/x-python",
   "name": "python",
   "nbconvert_exporter": "python",
   "pygments_lexer": "ipython3",
   "version": "3.8.5"
  }
 },
 "nbformat": 4,
 "nbformat_minor": 4
}
